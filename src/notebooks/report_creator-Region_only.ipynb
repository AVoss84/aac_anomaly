{
 "cells": [
  {
   "cell_type": "markdown",
   "metadata": {},
   "source": [
    "# *Create weekly PDF / HTML claims anomaly report ('Region only')* 📈"
   ]
  },
  {
   "cell_type": "markdown",
   "metadata": {},
   "source": [
    "- All regional time series aggregations are analyzed and the new potentially anomalies are shown in the report\n",
    "- Note: That if there are no anomalies detected then in the report only the fully aggregated time series is shown and the rest will be empty"
   ]
  },
  {
   "cell_type": "markdown",
   "metadata": {},
   "source": [
    "1. Drop raw data to SFTP server: */data/submission/input_data/* \n",
    "2. Run this notebook"
   ]
  },
  {
   "cell_type": "code",
   "execution_count": 1,
   "metadata": {},
   "outputs": [],
   "source": [
    "import os, sys, stat, warnings, emoji\n",
    "warnings.filterwarnings(\"ignore\")\n",
    "from datetime import date\n",
    "os.chdir(\"..\")\n",
    "from importlib import reload\n",
    "from claims_reporting.config import global_config as glob\n",
    "from claims_reporting.resources import config\n",
    "from claims_reporting.utils import utils_func as util"
   ]
  },
  {
   "cell_type": "markdown",
   "metadata": {},
   "source": [
    "Get the newest input file from SFTP server: */data/submission/input_data/* "
   ]
  },
  {
   "cell_type": "code",
   "execution_count": 2,
   "metadata": {},
   "outputs": [
    {
     "name": "stdout",
     "output_type": "stream",
     "text": [
      "Recent input file: AGCS Global Claims PIC - Notification Counts 2020-08-05.xlsx, using date 2020-08-05.\n"
     ]
    }
   ],
   "source": [
    "filename = util.get_newest_file(search_for = \"AGCS Global Claims PIC - Notification Counts\")   #\"AGCS CCO PIC - Payment Counts\"\n",
    "filedate = filename[(len(filename)-15):(len(filename)-5)]                 # get the date part for timestamp\n",
    "print('Recent input file: {}, using date {}.'.format(filename, filedate))"
   ]
  },
  {
   "cell_type": "markdown",
   "metadata": {},
   "source": [
    "Select a location where you want to save the output files:"
   ]
  },
  {
   "cell_type": "code",
   "execution_count": 3,
   "metadata": {},
   "outputs": [
    {
     "name": "stdout",
     "output_type": "stream",
     "text": [
      "Writing to: /work/claims-reporting/src/pweave/\n"
     ]
    }
   ],
   "source": [
    "output_files_dir = glob.UC_PWEAVE_DIR       # package folder / Jupyter server\n",
    "#output_files_dir = glob.UC_REPORT_DIR      # SFTP\n",
    "print('Writing to: {}'.format(output_files_dir))"
   ]
  },
  {
   "cell_type": "markdown",
   "metadata": {},
   "source": [
    "Show output filename(s):"
   ]
  },
  {
   "cell_type": "code",
   "execution_count": 4,
   "metadata": {},
   "outputs": [
    {
     "name": "stdout",
     "output_type": "stream",
     "text": [
      "-----------------\n",
      " Used filenames:\n",
      "-----------------\n",
      "'claims_anomaly_report_region_only_2020-08-05.pdf'\n"
     ]
    }
   ],
   "source": [
    "filename = config.in_out['output']['report_filename']         # without timestamp\n",
    "append_this = ''\n",
    "filename_new = filename+append_this\n",
    "output_file_name_region_pdf = filename_new+'_region_only_'+filedate+'.pdf'\n",
    "print(\"-----------------\\n Used filenames:\\n-----------------\\n'{}'\".format(output_file_name_region_pdf))"
   ]
  },
  {
   "cell_type": "markdown",
   "metadata": {},
   "source": [
    "## Generate PDF report: 📊"
   ]
  },
  {
   "cell_type": "markdown",
   "metadata": {},
   "source": [
    "### Regional anomalies only: "
   ]
  },
  {
   "cell_type": "code",
   "execution_count": 5,
   "metadata": {},
   "outputs": [
    {
     "name": "stdout",
     "output_type": "stream",
     "text": [
      "status\n",
      "status\n",
      "Processing chunk 1 named imports from line 36\n",
      "Processing chunk 2 named configurations from line 56\n",
      "Processing chunk 3 named data import from line 71\n",
      "Processing chunk 4 named model initialization from line 116\n",
      "Processing chunk 5 named search list from line 132\n",
      "Processing chunk 6 named training from line 283\n",
      "Processing chunk 7 named None from line 403\n",
      "Processing chunk 8 named None from line 414\n",
      "Weaved /work/claims-reporting/src/pweave/source_file_region_only.pmd to /work/claims-reporting/src/pweave/claims_anomaly_report.md\n",
      "PDF report: /work/claims-reporting/src/pweave/claims_anomaly_report_region_only_2020-08-05.pdf created.\n",
      "Job successful! 👍\n"
     ]
    }
   ],
   "source": [
    "# First generate PANDOC markdown:\n",
    "#---------------------------------\n",
    "!pweave --format=pandoc {glob.UC_PWEAVE_DIR}source_file_region_only.pmd --output={output_files_dir}claims_anomaly_report.md --figure-directory={output_files_dir}figures\n",
    "\n",
    "# Then convert PANDOC to PDF:\n",
    "#-----------------------------\n",
    "try:    \n",
    "    !/usr/bin/pandoc -s -V geometry:margin=0.1in -o {output_files_dir + output_file_name_region_pdf} {output_files_dir}claims_anomaly_report.md\n",
    "    print(\"PDF report: {} created.\".format(output_files_dir + output_file_name_region_pdf))   \n",
    "    !chmod 777 {output_files_dir + output_file_name_region_pdf}\n",
    "    print(emoji.emojize('\\nJob successful! :thumbs_up:'))\n",
    "except Exception as e: \n",
    "    print(e) ;print(\"PDF report: {} could not be created.\".format(output_files_dir + output_file_name_region_pdf))   \n",
    "    print(emoji.emojize('\\nJob not successful! :disappointed_relieved:', use_aliases=True))"
   ]
  },
  {
   "cell_type": "code",
   "execution_count": null,
   "metadata": {},
   "outputs": [],
   "source": []
  }
 ],
 "metadata": {
  "kernelspec": {
   "display_name": "Python 3",
   "language": "python",
   "name": "python3"
  },
  "language_info": {
   "codemirror_mode": {
    "name": "ipython",
    "version": 3
   },
   "file_extension": ".py",
   "mimetype": "text/x-python",
   "name": "python",
   "nbconvert_exporter": "python",
   "pygments_lexer": "ipython3",
   "version": "3.7.0"
  }
 },
 "nbformat": 4,
 "nbformat_minor": 2
}
