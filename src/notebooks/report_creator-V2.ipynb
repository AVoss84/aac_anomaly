{
 "cells": [
  {
   "cell_type": "markdown",
   "metadata": {},
   "source": [
    "# *Create weekly PDF / HTML claims anomaly reports* 📈"
   ]
  },
  {
   "cell_type": "markdown",
   "metadata": {},
   "source": [
    "- All usecase specific time series aggregations are analyzed and the new potentially anomalies are shown in the report\n",
    "- Note: That if there are no anomalies detected then in the report only the fully aggregated time series is shown and the rest will be empty"
   ]
  },
  {
   "cell_type": "markdown",
   "metadata": {},
   "source": [
    "Steps to follow:\n",
    "1. Drop raw data to SFTP server: */data/submission/input_data/* \n",
    "2. Set output file location to SFTP server or to current Jupyter server (see below)\n",
    "3. Select an input_file (must have constant naming), this implictly routes to $S = 12, 52$ methods.\n",
    "4. Select the usecase(s), i.e. at least one of  $\\{\\text{'all', 'lob', 'region'}\\}$ (see below)\n",
    "5. Run this notebook"
   ]
  },
  {
   "cell_type": "code",
   "execution_count": 1,
   "metadata": {},
   "outputs": [],
   "source": [
    "import os, warnings\n",
    "os.chdir(\"..\")\n",
    "warnings.filterwarnings(\"ignore\")\n",
    "from importlib import reload\n",
    "from claims_reporting.utils import utils_func as util\n",
    "#reload(utils_func)"
   ]
  },
  {
   "cell_type": "markdown",
   "metadata": {},
   "source": [
    "Ad 2.) Set output location SFTP server or current Jupyter server: "
   ]
  },
  {
   "cell_type": "code",
   "execution_count": 2,
   "metadata": {},
   "outputs": [
    {
     "name": "stdout",
     "output_type": "stream",
     "text": [
      "Input file: AGCS CCO PIC - Notification Counts 2020-10-19.xlsx (Periodicity: 52)\n",
      "Writing reports to: /work/claims-reporting/src/pweave/\n"
     ]
    }
   ],
   "source": [
    "cr = util.creator(output_to = ['local'], input_file = \"AGCS CCO PIC - Notification Counts 2020-10-19.xlsx\")\n",
    "#cr = util.creator(output_to = ['sftp'], input_file = \"AGCS CCO PIC - Payment Counts 2020-06.xlsx\")"
   ]
  },
  {
   "cell_type": "markdown",
   "metadata": {},
   "source": [
    "Ad 3.) Select the usecase(s) and create the report(s):"
   ]
  },
  {
   "cell_type": "code",
   "execution_count": 3,
   "metadata": {},
   "outputs": [
    {
     "name": "stdout",
     "output_type": "stream",
     "text": [
      "-> Creating report for all LoB/Region/OE combinations\n",
      "\n",
      "PDF report: /work/claims-reporting/src/pweave/claims_anomaly_report_all_combi_2020_10_19.pdf created.\n",
      "\n",
      "Job ALL successful!\n",
      "\n",
      "All jobs done!\n"
     ]
    }
   ],
   "source": [
    "out = cr.create(usecase = ['all'])                        # Weekly CLL\n",
    "#out = cr.create(usecase = ['all', 'lob', 'region'])     # Monthly CLL"
   ]
  },
  {
   "cell_type": "code",
   "execution_count": null,
   "metadata": {},
   "outputs": [],
   "source": []
  }
 ],
 "metadata": {
  "kernelspec": {
   "display_name": "Python 3",
   "language": "python",
   "name": "python3"
  },
  "language_info": {
   "codemirror_mode": {
    "name": "ipython",
    "version": 3
   },
   "file_extension": ".py",
   "mimetype": "text/x-python",
   "name": "python",
   "nbconvert_exporter": "python",
   "pygments_lexer": "ipython3",
   "version": "3.6.3"
  }
 },
 "nbformat": 4,
 "nbformat_minor": 2
}
