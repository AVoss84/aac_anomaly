{
 "cells": [
  {
   "cell_type": "markdown",
   "metadata": {},
   "source": [
    "# *Create weekly PDF / HTML claims anomaly report ('Region only')* 📈"
   ]
  },
  {
   "cell_type": "markdown",
   "metadata": {},
   "source": [
    "- All regional time series aggregations are analyzed and the new potentially anomalies are shown in the report\n",
    "- Note: That if there are no anomalies detected then in the report only the fully aggregated time series is shown and the rest will be empty"
   ]
  },
  {
   "cell_type": "markdown",
   "metadata": {},
   "source": [
    "1. Drop raw data to SFTP server: */data/submission/input_data/* \n",
    "2. Run this notebook"
   ]
  },
  {
   "cell_type": "code",
   "execution_count": 1,
   "metadata": {},
   "outputs": [],
   "source": [
    "import os, sys, stat, warnings, emoji\n",
    "warnings.filterwarnings(\"ignore\")\n",
    "from datetime import date\n",
    "os.chdir(\"..\")\n",
    "from importlib import reload\n",
    "from claims_reporting.config import global_config as glob\n",
    "from claims_reporting.resources import config\n",
    "from claims_reporting.utils import utils_func as util"
   ]
  },
  {
   "cell_type": "markdown",
   "metadata": {},
   "source": [
    "Get the newest input file from SFTP server: */data/submission/input_data/* "
   ]
  },
  {
   "cell_type": "code",
   "execution_count": 2,
   "metadata": {},
   "outputs": [
    {
     "data": {
      "text/plain": [
       "'AGCS CCO CRA - Monthly Incurred Movements v2.xlsx'"
      ]
     },
     "execution_count": 2,
     "metadata": {},
     "output_type": "execute_result"
    }
   ],
   "source": [
    "filename = util.get_newest_file(search_for = \"AGCS CCO CRA - Monthly Incurred Movements\", src_dir=glob.UC_DATA_DIR)           # weekly, take newest input\n",
    "filename"
   ]
  },
  {
   "cell_type": "markdown",
   "metadata": {},
   "source": [
    "Select a location where you want to save the output files:"
   ]
  },
  {
   "cell_type": "code",
   "execution_count": 3,
   "metadata": {},
   "outputs": [
    {
     "name": "stdout",
     "output_type": "stream",
     "text": [
      "Writing to: /work/claims-anomaly-financial/src/pweave/\n"
     ]
    }
   ],
   "source": [
    "output_files_dir = glob.UC_PWEAVE_DIR       # package folder / Jupyter server\n",
    "#output_files_dir = glob.UC_REPORT_DIR      # SFTP\n",
    "print('Writing to: {}'.format(output_files_dir))"
   ]
  },
  {
   "cell_type": "markdown",
   "metadata": {},
   "source": [
    "Show output filename(s):"
   ]
  },
  {
   "cell_type": "code",
   "execution_count": 6,
   "metadata": {},
   "outputs": [
    {
     "name": "stdout",
     "output_type": "stream",
     "text": [
      "-----------------\n",
      " Used filenames:\n",
      "-----------------\n",
      "'claims_anomaly_report_incurred_region_only.pdf'\n"
     ]
    }
   ],
   "source": [
    "config_output = config.in_out12['output']\n",
    "filename = config_output['report_filename']         # without timestamp\n",
    "append_this = ''\n",
    "filename_new = filename+append_this\n",
    "\n",
    "output_file_name_all_pdf = filename_new+'_region_only.pdf'\n",
    "#output_file_name_all_pdf = filename_new+'_all_combi_'+filedate+'.pdf'\n",
    "print(\"-----------------\\n Used filenames:\\n-----------------\\n'{}'\".format(output_file_name_all_pdf))"
   ]
  },
  {
   "cell_type": "markdown",
   "metadata": {},
   "source": [
    "## Generate PDF report: 📊"
   ]
  },
  {
   "cell_type": "markdown",
   "metadata": {},
   "source": [
    "### Regional anomalies only: "
   ]
  },
  {
   "cell_type": "code",
   "execution_count": 7,
   "metadata": {},
   "outputs": [
    {
     "name": "stdout",
     "output_type": "stream",
     "text": [
      "status\n",
      "status\n",
      "Processing chunk 1 named import packages from line 39\n",
      "Processing chunk 2 named set configurations from line 59\n",
      "Processing chunk 3 named import and preprocess data from line 75\n",
      "Processing chunk 4 named run all from line 121\n",
      "Processing chunk 5 named prepare search list from line 137\n",
      "Processing chunk 6 named None from line 303\n",
      "Processing chunk 7 named None from line 448\n",
      "Weaved /work/claims-anomaly-financial/src/pweave/source_file_region_only12_finance.pmd to /work/claims-anomaly-financial/src/pweave/claims_anomaly_report.md\n",
      "PDF report: /work/claims-anomaly-financial/src/pweave/claims_anomaly_report_incurred_region_only.pdf created.\n",
      "Job successful! 👍\n"
     ]
    }
   ],
   "source": [
    "# First generate PANDOC markdown:\n",
    "#---------------------------------\n",
    "!pweave --format=pandoc {glob.UC_PWEAVE_DIR}source_file_region_only12_finance.pmd --output={output_files_dir}claims_anomaly_report.md --figure-directory={output_files_dir}figures\n",
    "\n",
    "# Then convert PANDOC to PDF:\n",
    "#-----------------------------\n",
    "try:\n",
    "    !chmod +rwx {output_files_dir}\n",
    "    !/usr/bin/pandoc -s -V geometry:margin=0.1in -o {output_files_dir + output_file_name_all_pdf} {output_files_dir}claims_anomaly_report.md\n",
    "    print(\"PDF report: {} created.\".format(output_files_dir + output_file_name_all_pdf))   \n",
    "    !chmod 777 {output_files_dir + output_file_name_all_pdf}   \n",
    "    print(emoji.emojize('Job successful! :thumbs_up:'))\n",
    "except Exception as e: \n",
    "    print(e) ; print(\"PDF report: {} could not be created.\".format(output_files_dir + output_file_name_all_pdf)) \n",
    "    print(emoji.emojize('Job not successful! :disappointed_relieved:', use_aliases=True))"
   ]
  },
  {
   "cell_type": "code",
   "execution_count": null,
   "metadata": {},
   "outputs": [],
   "source": []
  }
 ],
 "metadata": {
  "kernelspec": {
   "display_name": "Python 3",
   "language": "python",
   "name": "python3"
  },
  "language_info": {
   "codemirror_mode": {
    "name": "ipython",
    "version": 3
   },
   "file_extension": ".py",
   "mimetype": "text/x-python",
   "name": "python",
   "nbconvert_exporter": "python",
   "pygments_lexer": "ipython3",
   "version": "3.6.5"
  }
 },
 "nbformat": 4,
 "nbformat_minor": 2
}
