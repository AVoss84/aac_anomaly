{
 "cells": [
  {
   "cell_type": "markdown",
   "metadata": {},
   "source": [
    "# *Create weekly PDF / HTML claims anomaly report ('All')* 📈"
   ]
  },
  {
   "cell_type": "markdown",
   "metadata": {},
   "source": [
    "- All 'LoB / Region / OE' - time series aggregations are analyzed and the new potentially anomalies are shown in the report\n",
    "- Note: That if there are no anomalies detected then in the report only the fully aggregated time series is shown and the rest will be empty"
   ]
  },
  {
   "cell_type": "markdown",
   "metadata": {},
   "source": [
    "1. Drop raw data to SFTP server: */data/submission/input_data/* \n",
    "2. Run this notebook"
   ]
  },
  {
   "cell_type": "code",
   "execution_count": 11,
   "metadata": {},
   "outputs": [
    {
     "data": {
      "text/plain": [
       "<module 'aac_ts_anomaly.config.global_config' from '/home/jovyan/aac_anomaly_detection/src/aac_ts_anomaly/config/global_config.py'>"
      ]
     },
     "execution_count": 11,
     "metadata": {},
     "output_type": "execute_result"
    }
   ],
   "source": [
    "import os, sys, stat, warnings #, emoji\n",
    "warnings.filterwarnings(\"ignore\")\n",
    "from datetime import date\n",
    "os.chdir(\"..\")\n",
    "from importlib import reload\n",
    "from aac_ts_anomaly.config import global_config as glob\n",
    "from aac_ts_anomaly.resources import config\n",
    "from aac_ts_anomaly.utils import utils_func as util\n",
    "\n",
    "reload(config)\n",
    "reload(glob)\n"
   ]
  },
  {
   "cell_type": "markdown",
   "metadata": {},
   "source": [
    "Get the newest input file from SFTP server: */data/submission/input_data/* "
   ]
  },
  {
   "cell_type": "code",
   "execution_count": 32,
   "metadata": {},
   "outputs": [
    {
     "name": "stdout",
     "output_type": "stream",
     "text": [
      "Recent input file: agg_time_series_52.csv, using date 52\n"
     ]
    }
   ],
   "source": [
    "filename = util.get_newest_file(search_for = \"agg_time_series_52.csv\")   #\"AGCS CCO PIC - Payment Counts\"\n",
    "filedate = \"52\" #filename[(len(filename)-15):(len(filename)-5)]                 # get the date part for timestamp\n",
    "print('Recent input file: {}, using date {}'.format(filename, filedate))"
   ]
  },
  {
   "cell_type": "markdown",
   "metadata": {},
   "source": [
    "Select a location where you want to save the output files:"
   ]
  },
  {
   "cell_type": "code",
   "execution_count": 33,
   "metadata": {},
   "outputs": [
    {
     "name": "stdout",
     "output_type": "stream",
     "text": [
      "Writing to: /home/jovyan/aac_anomaly_detection/src/pweave/\n"
     ]
    }
   ],
   "source": [
    "output_files_dir = glob.UC_PWEAVE_DIR       # package folder / Jupyter server\n",
    "#output_files_dir = glob.UC_REPORT_DIR      # SFTP\n",
    "print('Writing to: {}'.format(output_files_dir))"
   ]
  },
  {
   "cell_type": "markdown",
   "metadata": {},
   "source": [
    "Show output filename(s):"
   ]
  },
  {
   "cell_type": "code",
   "execution_count": 34,
   "metadata": {},
   "outputs": [
    {
     "name": "stdout",
     "output_type": "stream",
     "text": [
      "-----------------\n",
      " Used filenames:\n",
      "-----------------\n",
      "'claims_anomaly_report_all_combi_52.pdf'\n"
     ]
    }
   ],
   "source": [
    "filename = config.in_out52['output']['report_filename']         # without timestamp\n",
    "append_this = ''\n",
    "filename_new = filename+append_this\n",
    "output_file_name_all_pdf = filename_new+'_all_combi_'+filedate+'.pdf'\n",
    "print(\"-----------------\\n Used filenames:\\n-----------------\\n'{}'\".format(output_file_name_all_pdf))"
   ]
  },
  {
   "cell_type": "markdown",
   "metadata": {},
   "source": [
    "## Generate PDF report: 📊"
   ]
  },
  {
   "cell_type": "markdown",
   "metadata": {},
   "source": [
    "### All combinations (LoB/Region/OE)"
   ]
  },
  {
   "cell_type": "code",
   "execution_count": 35,
   "metadata": {},
   "outputs": [
    {
     "name": "stdout",
     "output_type": "stream",
     "text": [
      "status\n",
      "Processing chunk 1 named import packages from line 38\n",
      "Weaved /home/jovyan/aac_anomaly_detection/src/pweave/source_file_all_combi.pmd to /home/jovyan/aac_anomaly_detection/src/pweave/claims_anomaly_report.md\n",
      "Done.\n"
     ]
    }
   ],
   "source": [
    "# First generate PANDOC markdown:\n",
    "#---------------------------------\n",
    "!/home/jovyan/.conda/envs/env_tsanomaly/bin/pweave --format=pandoc {glob.UC_PWEAVE_DIR}source_file_all_combi.pmd --output={output_files_dir}claims_anomaly_report.md --figure-directory={output_files_dir}figures\n",
    "\n",
    "print('Done.')"
   ]
  },
  {
   "cell_type": "code",
   "execution_count": 36,
   "metadata": {},
   "outputs": [
    {
     "name": "stdout",
     "output_type": "stream",
     "text": [
      "Error producing PDF.\n",
      "! LaTeX Error: File `lmodern.sty' not found.\n",
      "\n",
      "Type X to quit or <RETURN> to proceed,\n",
      "or enter new name. (Default extension: sty)\n",
      "\n",
      "Enter file name: \n",
      "! Emergency stop.\n",
      "<read *> \n",
      "         \n",
      "l.9 \\usepackage\n",
      "\n"
     ]
    }
   ],
   "source": [
    "!pandoc -s -V geometry:margin=0.1in -o {output_files_dir + output_file_name_all_pdf} {output_files_dir}claims_anomaly_report.md"
   ]
  },
  {
   "cell_type": "code",
   "execution_count": 38,
   "metadata": {},
   "outputs": [
    {
     "data": {
      "text/plain": [
       "'/home/jovyan/aac_anomaly_detection/src/pweave/'"
      ]
     },
     "execution_count": 38,
     "metadata": {},
     "output_type": "execute_result"
    }
   ],
   "source": [
    "output_files_dir"
   ]
  },
  {
   "cell_type": "code",
   "execution_count": 26,
   "metadata": {},
   "outputs": [
    {
     "name": "stdout",
     "output_type": "stream",
     "text": [
      "Error producing PDF.\n",
      "! LaTeX Error: File `lmodern.sty' not found.\n",
      "\n",
      "Type X to quit or <RETURN> to proceed,\n",
      "or enter new name. (Default extension: sty)\n",
      "\n",
      "Enter file name: \n",
      "! Emergency stop.\n",
      "<read *> \n",
      "         \n",
      "l.9 \\usepackage\n",
      "\n",
      "PDF report: /home/jovyan/aac_anomaly_detection/src/pweave/claims_anomaly_report_all_combi_e_series_5.pdf created.\n",
      "chmod: cannot access '/home/jovyan/aac_anomaly_detection/src/pweave/claims_anomaly_report_all_combi_e_series_5.pdf': No such file or directory\n"
     ]
    }
   ],
   "source": [
    "# Then convert PANDOC to PDF:\n",
    "#-----------------------------\n",
    "try:\n",
    "    !chmod +rwx {output_files_dir}\n",
    "    !pandoc -s -V geometry:margin=0.1in -o {output_files_dir + output_file_name_all_pdf} {output_files_dir}claims_anomaly_report.md\n",
    "    #!/usr/bin/pandoc -s -V geometry:margin=0.1in -o {output_files_dir + output_file_name_all_pdf} {output_files_dir}claims_anomaly_report.md\n",
    "    print(\"PDF report: {} created.\".format(output_files_dir + output_file_name_all_pdf))   \n",
    "    !chmod 777 {output_files_dir + output_file_name_all_pdf}   \n",
    "    #print(emoji.emojize('Job successful! :thumbs_up:'))\n",
    "except Exception as e: \n",
    "    print(e) ; print(\"PDF report: {} could not be created.\".format(output_files_dir + output_file_name_all_pdf)) \n",
    "    #print(emoji.emojize('Job not successful! :disappointed_relieved:', use_aliases=True))"
   ]
  },
  {
   "cell_type": "code",
   "execution_count": 25,
   "metadata": {},
   "outputs": [
    {
     "name": "stdout",
     "output_type": "stream",
     "text": [
      "pandoc 2.18\n",
      "Compiled with pandoc-types 1.22.2, texmath 0.12.5, skylighting 0.12.3,\n",
      "citeproc 0.7, ipynb 0.2, hslua 2.2.0\n",
      "Scripting engine: Lua 5.4\n",
      "User data directory: /home/jovyan/.local/share/pandoc\n",
      "Copyright (C) 2006-2022 John MacFarlane. Web:  https://pandoc.org\n",
      "This is free software; see the source for copying conditions. There is no\n",
      "warranty, not even for merchantability or fitness for a particular purpose.\n"
     ]
    }
   ],
   "source": [
    "!pandoc --version"
   ]
  },
  {
   "cell_type": "code",
   "execution_count": null,
   "metadata": {},
   "outputs": [],
   "source": []
  }
 ],
 "metadata": {
  "kernelspec": {
   "display_name": "Python [conda env:.conda-env_tsanomaly]",
   "language": "python",
   "name": "conda-env-.conda-env_tsanomaly-py"
  },
  "language_info": {
   "codemirror_mode": {
    "name": "ipython",
    "version": 3
   },
   "file_extension": ".py",
   "mimetype": "text/x-python",
   "name": "python",
   "nbconvert_exporter": "python",
   "pygments_lexer": "ipython3",
   "version": "3.7.13"
  }
 },
 "nbformat": 4,
 "nbformat_minor": 4
}
