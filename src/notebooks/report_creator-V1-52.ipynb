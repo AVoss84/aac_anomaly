{
 "cells": [
  {
   "cell_type": "markdown",
   "metadata": {},
   "source": [
    "# *Create PDF / HTML claims anomaly report* 📈"
   ]
  },
  {
   "cell_type": "markdown",
   "metadata": {},
   "source": [
    "1. Drop raw data to SFTP server: */data/submission/input_data/* \n",
    "2. Run this notebook"
   ]
  },
  {
   "cell_type": "code",
   "execution_count": 1,
   "metadata": {},
   "outputs": [],
   "source": [
    "import os, sys, stat, emoji\n",
    "from datetime import date\n",
    "os.chdir(\"..\")\n",
    "#print(os.getcwd())\n",
    "from importlib import reload\n",
    "from claims_reporting.config import global_config as glob\n",
    "from claims_reporting.resources import config\n",
    "from claims_reporting.utils import utils_func as util\n",
    "\n",
    "#filename = list(config.in_out['input']['service']['XLSXService'].values())[0]        # only for xls currently\n",
    "#today = date.today() #.strftime(\"%d/%m/%Y\")             # create timestamp for file names\n",
    "#year, week_num, day_of_week = today.isocalendar()\n",
    "#reload(util)\n",
    "#reload(config)"
   ]
  },
  {
   "cell_type": "code",
   "execution_count": 2,
   "metadata": {},
   "outputs": [
    {
     "output_type": "stream",
     "name": "stdout",
     "text": "Recent input file: AGCS CCO PIC - Notification Counts 2020-09-21.xlsx, using date 2020-09-21.\n"
    }
   ],
   "source": [
    "filename = util.get_newest_file(search_for = \"AGCS CCO PIC - Notification Counts\")   #\"AGCS CCO PIC - Payment Counts\"\n",
    "filedate = filename[(len(filename)-15):(len(filename)-5)]\n",
    "print('Recent input file: {}, using date {}.'.format(filename, filedate))"
   ]
  },
  {
   "cell_type": "markdown",
   "metadata": {},
   "source": [
    "Select a location where you want to save the output files:"
   ]
  },
  {
   "cell_type": "code",
   "execution_count": 4,
   "metadata": {},
   "outputs": [
    {
     "output_type": "stream",
     "name": "stdout",
     "text": "Writing to: /data/data/submission/report/\n"
    }
   ],
   "source": [
    "#output_files_dir = glob.UC_PWEAVE_DIR       # package folder / Jupyter server\n",
    "output_files_dir = glob.UC_REPORT_DIR      # SFTP\n",
    "print('Writing to: {}'.format(output_files_dir))"
   ]
  },
  {
   "cell_type": "markdown",
   "metadata": {},
   "source": [
    "Show output filename(s):"
   ]
  },
  {
   "cell_type": "code",
   "execution_count": 5,
   "metadata": {},
   "outputs": [
    {
     "output_type": "stream",
     "name": "stdout",
     "text": "Used filenames:\n-----------------\n'claims_anomaly_report_all_combi_weekly_2020-09-21.pdf'\n'claims_anomaly_report_region_only_weekly_2020-09-21.pdf'\n'claims_anomaly_report_lob_only_weekly_2020-09-21.pdf'\n'claims_anomaly_report_all_combi_weekly_2020-09-21.html'\n'claims_anomaly_report_all_combi_slide_2020-09-21.pdf'\n"
    }
   ],
   "source": [
    "filename = config.in_out52['output']['report_filename']         # without timestamp\n",
    "append_this = ''\n",
    "filename_new = filename+append_this\n",
    "\n",
    "output_file_name_region_pdf = filename_new+'_region_only_weekly_'+filedate+'.pdf'\n",
    "output_file_name_all_pdf = filename_new+'_all_combi_weekly_'+filedate+'.pdf'\n",
    "output_file_name_lob_pdf = filename_new+'_lob_only_weekly_'+filedate+'.pdf'\n",
    "output_file_name_all_html = filename_new+'_all_combi_weekly_'+filedate+'.html'\n",
    "output_file_name_all_slide = filename_new+'_all_combi_slide_'+filedate+'.pdf'\n",
    "print(\" Used filenames:\\n-----------------\\n'{}'\\n'{}'\\n'{}'\\n'{}'\\n'{}'\".format(output_file_name_all_pdf, output_file_name_region_pdf, output_file_name_lob_pdf, output_file_name_all_html, output_file_name_all_slide))"
   ]
  },
  {
   "cell_type": "markdown",
   "metadata": {},
   "source": [
    "## Generate PDF reports: 📊"
   ]
  },
  {
   "cell_type": "markdown",
   "metadata": {},
   "source": [
    "### 1.) All combinations (LoB/Region/OE)"
   ]
  },
  {
   "cell_type": "code",
   "execution_count": 6,
   "metadata": {},
   "outputs": [
    {
     "output_type": "stream",
     "name": "stdout",
     "text": "/bin/sh: 1: pweave: not found\nchmod: changing permissions of '/data/data/submission/report/': Permission denied\npandoc: pdflatex not found. pdflatex is needed for pdf output.\nPDF report: /data/data/submission/report/claims_anomaly_report_all_combi_weekly_2020-09-21.pdf created.\nchmod: cannot access '/data/data/submission/report/claims_anomaly_report_all_combi_weekly_2020-09-21.pdf': No such file or directory\n\nJob successful! 👍\n"
    }
   ],
   "source": [
    "# First generate PANDOC markdown:\n",
    "#---------------------------------\n",
    "!pweave --format=pandoc {glob.UC_PWEAVE_DIR}source_file_all_combi52.pmd --output={output_files_dir}claims_anomaly_report.md --figure-directory={output_files_dir}figures\n",
    "\n",
    "# Then convert PANDOC to PDF:\n",
    "#-----------------------------\n",
    "try:\n",
    "    !chmod +rwx {output_files_dir}\n",
    "    !/usr/bin/pandoc -s -V geometry:margin=0.1in -o {output_files_dir + output_file_name_all_pdf} {output_files_dir}claims_anomaly_report.md\n",
    "    print(\"PDF report: {} created.\".format(output_files_dir + output_file_name_all_pdf))   \n",
    "    !chmod 777 {output_files_dir + output_file_name_all_pdf}    \n",
    "    print(emoji.emojize('\\nJob successful! :thumbs_up:'))   #https://www.webfx.com/tools/emoji-cheat-sheet/\n",
    "except Exception as e: \n",
    "    print(e)\n",
    "    print(\"PDF report: {} could not be created.\".format(output_files_dir + output_file_name_all_pdf)) \n",
    "    print(emoji.emojize('\\nJob not successful! :disappointed_relieved:', use_aliases=True))"
   ]
  },
  {
   "cell_type": "markdown",
   "metadata": {},
   "source": [
    "### 2.) Regional anomalies only: "
   ]
  },
  {
   "cell_type": "code",
   "execution_count": null,
   "metadata": {},
   "outputs": [],
   "source": [
    "# First generate PANDOC markdown:\n",
    "#---------------------------------\n",
    "!pweave --format=pandoc {glob.UC_PWEAVE_DIR}source_file_region_only52.pmd --output={output_files_dir}claims_anomaly_report.md --figure-directory={output_files_dir}figures\n",
    "\n",
    "# Then convert PANDOC to PDF:\n",
    "#-----------------------------\n",
    "try:    \n",
    "    !/usr/bin/pandoc -s -V geometry:margin=0.1in -o {output_files_dir + output_file_name_region_pdf} {output_files_dir}claims_anomaly_report.md\n",
    "    print(\"PDF report: {} created.\".format(output_files_dir + output_file_name_region_pdf))   \n",
    "    !chmod 777 {output_files_dir + output_file_name_region_pdf}\n",
    "    print(emoji.emojize('\\nJob successful! :thumbs_up:'))\n",
    "except Exception as e: \n",
    "    print(e)\n",
    "    print(\"PDF report: {} could not be created.\".format(output_files_dir + output_file_name_region_pdf))     \n",
    "    print(emoji.emojize('\\nJob not successful! :disappointed_relieved:', use_aliases=True))"
   ]
  },
  {
   "cell_type": "markdown",
   "metadata": {},
   "source": [
    "### 3.) LoBs anomalies only: "
   ]
  },
  {
   "cell_type": "code",
   "execution_count": null,
   "metadata": {},
   "outputs": [],
   "source": [
    "# First generate PANDOC markdown:\n",
    "#---------------------------------\n",
    "!pweave --format=pandoc {glob.UC_PWEAVE_DIR}source_file_LoB_only52.pmd --output={output_files_dir}claims_anomaly_report.md --figure-directory={output_files_dir}figures\n",
    "\n",
    "# Then convert PANDOC to PDF:\n",
    "#-----------------------------\n",
    "try:\n",
    "    !/usr/bin/pandoc -s -V geometry:margin=0.1in -o {output_files_dir + output_file_name_lob_pdf} {output_files_dir}claims_anomaly_report.md\n",
    "    print(\"PDF report: {} created.\".format(output_files_dir + output_file_name_lob_pdf))   \n",
    "    !chmod 777 {output_files_dir + output_file_name_lob_pdf}\n",
    "    print(emoji.emojize('\\nJob successful! :thumbs_up:'))\n",
    "except Exception as e: \n",
    "    print(e)\n",
    "    print(\"PDF report: {} could not be created.\".format(output_files_dir + output_file_name_lob_pdf))     \n",
    "    print(emoji.emojize('\\nJob not successful! :disappointed_relieved:', use_aliases=True))"
   ]
  },
  {
   "cell_type": "markdown",
   "metadata": {},
   "source": [
    "## (Optional) Generate HTML report:"
   ]
  },
  {
   "cell_type": "code",
   "execution_count": null,
   "metadata": {},
   "outputs": [],
   "source": [
    "!pweave --format=md2html {glob.UC_PWEAVE_DIR}source_file_all_combi52.pmd --output={output_files_dir + output_file_name_all_html} --figure-directory={output_files_dir}figures\n",
    "print(\"HTML report created.\")"
   ]
  },
  {
   "cell_type": "markdown",
   "metadata": {},
   "source": [
    "## Generate Beamer slide report: 📊\n",
    "\n",
    "You need to add some pagebreaks in the pwd files, otherwise everything is printed on one slide (see Wei's pwd files for example)"
   ]
  },
  {
   "cell_type": "code",
   "execution_count": null,
   "metadata": {},
   "outputs": [],
   "source": [
    "!pweave --format=pandoc {glob.UC_PWEAVE_DIR}source_file_all_combi52.pmd --output={output_files_dir}claims_anomaly_report_slide.md --figure-directory={output_files_dir}figures\n",
    "\n",
    "!/usr/bin/pandoc -t beamer -o {output_files_dir + output_file_name_all_slide} {output_files_dir}claims_anomaly_report_slide.md\n"
   ]
  },
  {
   "cell_type": "code",
   "execution_count": null,
   "metadata": {},
   "outputs": [],
   "source": []
  }
 ],
 "metadata": {
  "kernelspec": {
   "display_name": "Python 3",
   "language": "python",
   "name": "python3"
  },
  "language_info": {
   "codemirror_mode": {
    "name": "ipython",
    "version": 3
   },
   "file_extension": ".py",
   "mimetype": "text/x-python",
   "name": "python",
   "nbconvert_exporter": "python",
   "pygments_lexer": "ipython3",
   "version": "3.7.3-final"
  }
 },
 "nbformat": 4,
 "nbformat_minor": 2
}