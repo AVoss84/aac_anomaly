{
 "cells": [
  {
   "cell_type": "markdown",
   "metadata": {},
   "source": [
    "# *Create PDF / HTML claims anomaly report* 📈"
   ]
  },
  {
   "cell_type": "markdown",
   "metadata": {},
   "source": [
    "<details>\n",
    "<summary>\n",
    "     <font size=\"3\" color=\"darkgreen\"><b>Notes (click)</b></font>\n",
    "</summary>\n",
    "<p>\n",
    "<ul>\n",
    "     <li>\n",
    "     1. Drop raw data to SFTP server: */data/submission/input_data/* \n",
    "     <p>\n",
    "     2. Run this notebook\n",
    "    </li> \n",
    "</ul> \n",
    "</p>"
   ]
  },
  {
   "cell_type": "code",
   "execution_count": 1,
   "metadata": {},
   "outputs": [
    {
     "name": "stderr",
     "output_type": "stream",
     "text": [
      "/opt/conda/lib/python3.6/site-packages/statsmodels/tools/_testing.py:19: FutureWarning: pandas.util.testing is deprecated. Use the functions in the public API at pandas.testing instead.\n",
      "  import pandas.util.testing as tm\n"
     ]
    }
   ],
   "source": [
    "import os, sys, stat, emoji\n",
    "from datetime import date\n",
    "os.chdir(\"..\")\n",
    "#print(os.getcwd())\n",
    "from importlib import reload\n",
    "from claims_reporting.config import global_config as glob\n",
    "from claims_reporting.resources import config\n",
    "from claims_reporting.utils import utils_func as util\n",
    "\n",
    "#filename = list(config.in_out['input']['service']['XLSXService'].values())[0]        # only for xls currently\n",
    "#today = date.today() #.strftime(\"%d/%m/%Y\")             # create timestamp for file names\n",
    "#year, week_num, day_of_week = today.isocalendar()\n",
    "#reload(util)\n",
    "#reload(config)"
   ]
  },
  {
   "cell_type": "code",
   "execution_count": 2,
   "metadata": {},
   "outputs": [
    {
     "name": "stdout",
     "output_type": "stream",
     "text": [
      "Recent input file: AGCS CCO PIC - Payment Counts 2020-06.xlsx, using date 2020-06.\n"
     ]
    }
   ],
   "source": [
    "filename = util.get_newest_file(search_for = \"AGCS CCO PIC - Payment Counts\") \n",
    "filedate = filename[(len(filename)-12):(len(filename)-5)]\n",
    "print('Recent input file: {}, using date {}.'.format(filename, filedate))"
   ]
  },
  {
   "cell_type": "markdown",
   "metadata": {},
   "source": [
    "Select a location where you want to save the output files:"
   ]
  },
  {
   "cell_type": "code",
   "execution_count": 3,
   "metadata": {},
   "outputs": [
    {
     "name": "stdout",
     "output_type": "stream",
     "text": [
      "Writing to: /work/claims-reporting/src/pweave/\n"
     ]
    }
   ],
   "source": [
    "output_files_dir = glob.UC_PWEAVE_DIR       # package folder / Jupyter server\n",
    "#output_files_dir = glob.UC_REPORT_DIR      # SFTP\n",
    "print('Writing to: {}'.format(output_files_dir))"
   ]
  },
  {
   "cell_type": "markdown",
   "metadata": {},
   "source": [
    "Show output filename(s):"
   ]
  },
  {
   "cell_type": "code",
   "execution_count": 4,
   "metadata": {},
   "outputs": [
    {
     "name": "stdout",
     "output_type": "stream",
     "text": [
      " Used filenames:\n",
      "-----------------\n",
      "'claims_anomaly_report_all_combi_monthly_2020-06.pdf'\n",
      "'claims_anomaly_report_region_only_monthly_2020-06.pdf'\n",
      "'claims_anomaly_report_lob_only_monthly_2020-06.pdf'\n",
      "'claims_anomaly_report_all_combi_monthly_2020-06.html'\n",
      "'claims_anomaly_report_all_combi_slide_2020-06.pdf'\n"
     ]
    }
   ],
   "source": [
    "filename = config.in_out12['output']['report_filename']         # without timestamp\n",
    "append_this = ''\n",
    "filename_new = filename+append_this\n",
    "\n",
    "output_file_name_region_pdf = filename_new+'_region_only_monthly_'+filedate+'.pdf'\n",
    "output_file_name_all_pdf = filename_new+'_all_combi_monthly_'+filedate+'.pdf'\n",
    "output_file_name_lob_pdf = filename_new+'_lob_only_monthly_'+filedate+'.pdf'\n",
    "output_file_name_all_html = filename_new+'_all_combi_monthly_'+filedate+'.html'\n",
    "output_file_name_all_slide = filename_new+'_all_combi_slide_'+filedate+'.pdf'\n",
    "print(\" Used filenames:\\n-----------------\\n'{}'\\n'{}'\\n'{}'\\n'{}'\\n'{}'\".format(output_file_name_all_pdf, output_file_name_region_pdf, output_file_name_lob_pdf, output_file_name_all_html, output_file_name_all_slide))"
   ]
  },
  {
   "cell_type": "markdown",
   "metadata": {},
   "source": [
    "## Generate PDF reports: 📊"
   ]
  },
  {
   "cell_type": "markdown",
   "metadata": {},
   "source": [
    "### 1.) All combinations (LoB/Region/OE)"
   ]
  },
  {
   "cell_type": "code",
   "execution_count": 5,
   "metadata": {},
   "outputs": [
    {
     "name": "stdout",
     "output_type": "stream",
     "text": [
      "Processing chunk 1 named import packages from line 37\n",
      "Processing chunk 2 named set configurations from line 63\n",
      "Processing chunk 3 named import and preprocess data from line 80\n",
      "Processing chunk 4 named run all from line 125\n",
      "Processing chunk 5 named prepare search list from line 141\n",
      "Processing chunk 6 named None from line 305\n",
      "Processing chunk 7 named None from line 445\n",
      "Processing chunk 8 named None from line 455\n",
      "Weaved /work/claims-reporting/src/pweave/source_file_all_combi12.pmd to /work/claims-reporting/src/pweave/claims_anomaly_report.md\n",
      "PDF report: /work/claims-reporting/src/pweave/claims_anomaly_report_all_combi_monthly_2020-06.pdf created.\n",
      "\n",
      "Job successful! 👍\n"
     ]
    }
   ],
   "source": [
    "# First generate PANDOC markdown:\n",
    "#---------------------------------\n",
    "!pweave --format=pandoc {glob.UC_PWEAVE_DIR}source_file_all_combi12.pmd --output={output_files_dir}claims_anomaly_report.md --figure-directory={output_files_dir}figures\n",
    "\n",
    "# Then convert PANDOC to PDF:\n",
    "#-----------------------------\n",
    "try:\n",
    "    !chmod +rwx {output_files_dir}\n",
    "    !/usr/bin/pandoc -s -V geometry:margin=0.1in -o {output_files_dir + output_file_name_all_pdf} {output_files_dir}claims_anomaly_report.md\n",
    "    print(\"PDF report: {} created.\".format(output_files_dir + output_file_name_all_pdf))   \n",
    "    !chmod 777 {output_files_dir + output_file_name_all_pdf}    \n",
    "    print(emoji.emojize('\\nJob successful! :thumbs_up:'))   #https://www.webfx.com/tools/emoji-cheat-sheet/\n",
    "except Exception as e: \n",
    "    print(e)\n",
    "    print(\"PDF report: {} could not be created.\".format(output_files_dir + output_file_name_all_pdf)) \n",
    "    print(emoji.emojize('\\nJob not successful! :disappointed_relieved:', use_aliases=True))"
   ]
  },
  {
   "cell_type": "markdown",
   "metadata": {},
   "source": [
    "### 2.) Regional anomalies only:"
   ]
  },
  {
   "cell_type": "code",
   "execution_count": 5,
   "metadata": {},
   "outputs": [
    {
     "name": "stdout",
     "output_type": "stream",
     "text": [
      "status\n",
      "status\n",
      "Processing chunk 1 named imports from line 36\n",
      "Processing chunk 2 named configurations from line 60\n",
      "Processing chunk 3 named data import from line 78\n",
      "Processing chunk 4 named model initialization from line 123\n",
      "Processing chunk 5 named search list from line 139\n",
      "Processing chunk 6 named training from line 300\n",
      "Processing chunk 7 named None from line 430\n",
      "Processing chunk 8 named None from line 441\n",
      "Weaved /work/claims-reporting/src/pweave/source_file_region_only12.pmd to /work/claims-reporting/src/pweave/claims_anomaly_report.md\n",
      "PDF report: /work/claims-reporting/src/pweave/claims_anomaly_report_region_only_monthly_2020-06.pdf created.\n",
      "\n",
      "Job successful! 👍\n"
     ]
    }
   ],
   "source": [
    "# First generate PANDOC markdown:\n",
    "#---------------------------------\n",
    "!pweave --format=pandoc {glob.UC_PWEAVE_DIR}source_file_region_only12.pmd --output={output_files_dir}claims_anomaly_report.md --figure-directory={output_files_dir}figures\n",
    "\n",
    "# Then convert PANDOC to PDF:\n",
    "#-----------------------------\n",
    "try:    \n",
    "    !/usr/bin/pandoc -s -V geometry:margin=0.1in -o {output_files_dir + output_file_name_region_pdf} {output_files_dir}claims_anomaly_report.md\n",
    "    print(\"PDF report: {} created.\".format(output_files_dir + output_file_name_region_pdf))   \n",
    "    !chmod 777 {output_files_dir + output_file_name_region_pdf}\n",
    "    print(emoji.emojize('\\nJob successful! :thumbs_up:'))\n",
    "except Exception as e: \n",
    "    print(e)\n",
    "    print(\"PDF report: {} could not be created.\".format(output_files_dir + output_file_name_region_pdf))     \n",
    "    print(emoji.emojize('\\nJob not successful! :disappointed_relieved:', use_aliases=True))"
   ]
  },
  {
   "cell_type": "markdown",
   "metadata": {},
   "source": [
    "### 3.) LoBs anomalies only:"
   ]
  },
  {
   "cell_type": "code",
   "execution_count": 6,
   "metadata": {},
   "outputs": [
    {
     "name": "stdout",
     "output_type": "stream",
     "text": [
      "status\n",
      "status\n",
      "Processing chunk 1 named import packages from line 36\n",
      "Processing chunk 2 named configs from line 61\n",
      "Processing chunk 3 named import data from line 76\n",
      "Processing chunk 4 named precalculate final results from line 121\n",
      "Processing chunk 5 named search list from line 137\n",
      "Processing chunk 6 named None from line 301\n",
      "Processing chunk 7 named None from line 430\n",
      "Processing chunk 8 named None from line 440\n",
      "Weaved /work/claims-reporting/src/pweave/source_file_LoB_only12.pmd to /work/claims-reporting/src/pweave/claims_anomaly_report.md\n",
      "PDF report: /work/claims-reporting/src/pweave/claims_anomaly_report_lob_only_monthly_2020-06.pdf created.\n",
      "\n",
      "Job successful! 👍\n"
     ]
    }
   ],
   "source": [
    "# First generate PANDOC markdown:\n",
    "#---------------------------------\n",
    "!pweave --format=pandoc {glob.UC_PWEAVE_DIR}source_file_LoB_only12.pmd --output={output_files_dir}claims_anomaly_report.md --figure-directory={output_files_dir}figures\n",
    "\n",
    "# Then convert PANDOC to PDF:\n",
    "#-----------------------------\n",
    "try:\n",
    "    !/usr/bin/pandoc -s -V geometry:margin=0.1in -o {output_files_dir + output_file_name_lob_pdf} {output_files_dir}claims_anomaly_report.md\n",
    "    print(\"PDF report: {} created.\".format(output_files_dir + output_file_name_lob_pdf))   \n",
    "    !chmod 777 {output_files_dir + output_file_name_lob_pdf}\n",
    "    print(emoji.emojize('\\nJob successful! :thumbs_up:'))\n",
    "except Exception as e: \n",
    "    print(e)\n",
    "    print(\"PDF report: {} could not be created.\".format(output_files_dir + output_file_name_lob_pdf))     \n",
    "    print(emoji.emojize('\\nJob not successful! :disappointed_relieved:', use_aliases=True))"
   ]
  },
  {
   "cell_type": "markdown",
   "metadata": {},
   "source": [
    "## (Optional) Generate HTML report:"
   ]
  },
  {
   "cell_type": "code",
   "execution_count": 11,
   "metadata": {},
   "outputs": [
    {
     "name": "stdout",
     "output_type": "stream",
     "text": [
      "status\n",
      "status\n",
      "Processing chunk 1 named import packages from line 36\n",
      "Processing chunk 2 named set configurations from line 55\n",
      "Processing chunk 3 named import data from line 70\n",
      "Processing chunk 4 named run all from line 115\n",
      "Processing chunk 5 named prepare search list from line 131\n",
      "Processing chunk 6 named None from line 282\n",
      "Processing chunk 7 named None from line 411\n",
      "Processing chunk 8 named None from line 421\n",
      "Weaved /work/claims-reporting/src/pweave/source_file_all_combi.pmd to /work/claims-reporting/src/pweave/claims_anomaly_report_all_combi.html\n",
      "HTML report created.\n"
     ]
    }
   ],
   "source": [
    "!pweave --format=md2html {glob.UC_PWEAVE_DIR}source_file_all_combi.pmd --output={output_files_dir + output_file_name_all_html} --figure-directory={output_files_dir}figures\n",
    "print(\"HTML report created.\")"
   ]
  },
  {
   "cell_type": "markdown",
   "metadata": {},
   "source": [
    "## Generate Beamer slide report: 📊\n",
    "\n",
    "You need to add some pagebreaks in the pwd files, otherwise everything is printed on one slide (see Wei's pwd files for example)"
   ]
  },
  {
   "cell_type": "code",
   "execution_count": 5,
   "metadata": {},
   "outputs": [
    {
     "name": "stdout",
     "output_type": "stream",
     "text": [
      "status\n",
      "Processing chunk 1 named import packages from line 36\n",
      "Processing chunk 2 named configs from line 61\n",
      "Processing chunk 3 named import data from line 76\n",
      "Processing chunk 4 named precalculate final results from line 121\n",
      "Processing chunk 5 named search list from line 137\n",
      "Processing chunk 6 named None from line 301\n",
      "Processing chunk 7 named None from line 430\n",
      "Processing chunk 8 named None from line 440\n",
      "Weaved /work/claims-reporting/src/pweave/source_file_LoB_only12.pmd to /work/claims-reporting/src/pweave/claims_anomaly_report_slide.md\n"
     ]
    }
   ],
   "source": [
    "!pweave --format=pandoc {glob.UC_PWEAVE_DIR}source_file_all_combi12.pmd --output={output_files_dir}claims_anomaly_report_slide.md --figure-directory={output_files_dir}figures\n",
    "\n",
    "!/usr/bin/pandoc -t beamer -o {output_files_dir + output_file_name_all_slide} {output_files_dir}claims_anomaly_report_slide.md\n"
   ]
  },
  {
   "cell_type": "code",
   "execution_count": null,
   "metadata": {},
   "outputs": [],
   "source": []
  }
 ],
 "metadata": {
  "kernelspec": {
   "display_name": "Python 3",
   "language": "python",
   "name": "python3"
  },
  "language_info": {
   "codemirror_mode": {
    "name": "ipython",
    "version": 3
   },
   "file_extension": ".py",
   "mimetype": "text/x-python",
   "name": "python",
   "nbconvert_exporter": "python",
   "pygments_lexer": "ipython3",
   "version": "3.6.3"
  }
 },
 "nbformat": 4,
 "nbformat_minor": 2
}
